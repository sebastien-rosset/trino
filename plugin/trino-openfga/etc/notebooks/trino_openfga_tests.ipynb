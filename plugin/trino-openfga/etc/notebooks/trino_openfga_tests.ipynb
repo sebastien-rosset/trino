{
  "cells": [
    {
      "cell_type": "markdown",
      "metadata": {
        "id": "introduction",
        "language": "markdown"
      },
      "source": [
        "# Trino OpenFGA Integration Testing\n",
        "\n",
        "This notebook demonstrates how to interact with Trino using the OpenFGA authorization system for access control. We'll test row-level security, column masking, and general access control features."
      ]
    },
    {
      "cell_type": "markdown",
      "metadata": {
        "id": "setup",
        "language": "markdown"
      },
      "source": [
        "## Setup\n",
        "\n",
        "First, we need to install the required Python packages to connect to Trino:"
      ]
    },
    {
      "cell_type": "code",
      "metadata": {
        "id": "install_packages",
        "language": "python"
      },
      "source": [
        "# Install required packages\n",
        "!pip install trino requests pandas openfga-sdk"
      ]
    },
    {
      "cell_type": "markdown",
      "metadata": {
        "id": "connection",
        "language": "markdown"
      },
      "source": [
        "## Connect to Trino\n",
        "\n",
        "Let's establish a connection to our Trino server:"
      ]
    },
    {
      "cell_type": "code",
      "metadata": {
        "id": "connect_to_trino",
        "language": "python"
      },
      "source": [
        "import trino\n",
        "import pandas as pd\n",
        "\n",
        "# Create a connection to Trino\n",
        "conn = trino.dbapi.connect(\n",
        "    host=\"trino\",  # Service name in docker-compose\n",
        "    port=8080,     # Port inside the container\n",
        "    user=\"admin\",  # Using admin user initially\n",
        "    catalog=\"memory\",\n",
        "    schema=\"default\"\n",
        ")\n",
        "\n",
        "cursor = conn.cursor()\n",
        "print(\"Connected to Trino!\")"
      ]
    },
    {
      "cell_type": "markdown",
      "metadata": {
        "id": "openfga_setup",
        "language": "markdown"
      },
      "source": [
        "## OpenFGA Setup\n",
        "\n",
        "Now let's create an OpenFGA store and authorization model, then update the Trino configuration:"
      ]
    },
    {
      "cell_type": "code",
      "metadata": {
        "id": "setup_openfga",
        "language": "python"
      },
      "source": [
        "from openfga import OpenFgaClient\n",
        "from openfga.models import ClientConfiguration, CreateStoreRequest, WriteAuthorizationModelRequest\n",
        "import uuid\n",
        "import json\n",
        "\n",
        "# Initialize OpenFGA client\n",
        "config = ClientConfiguration(\n",
        "    api_url=\"http://openfga:8080\",  # Service name in docker compose\n",
        "    store_id=\"\"\n",
        ")\n",
        "client = OpenFgaClient(config)\n",
        "\n",
        "# Create a store\n",
        "store_request = CreateStoreRequest(name=f\"trino-test-{uuid.uuid4()}\")\n",
        "store_response = client.create_store(store_request)\n",
        "store_id = store_response.id\n",
        "print(f\"Created OpenFGA store with ID: {store_id}\")\n",
        "\n",
        "# Update client with store ID\n",
        "config = ClientConfiguration(\n",
        "    api_url=\"http://openfga:8080\", \n",
        "    store_id=store_id\n",
        ")\n",
        "client = OpenFgaClient(config)\n",
        "\n",
        "# Create authorization model\n",
        "# We'll use a simple model for testing row-level security and column masking\n",
        "model_json = '''\n",
        "{\n",
        "  \"schema_version\": \"1.1\",\n",
        "  \"type_definitions\": [\n",
        "    {\n",
        "      \"type\": \"user\",\n",
        "      \"relations\": {}\n",
        "    },\n",
        "    {\n",
        "      \"type\": \"table\",\n",
        "      \"relations\": {\n",
        "        \"can_read\": {\n",
        "          \"this\": {}\n",
        "        },\n",
        "        \"has_filter\": {\n",
        "          \"this\": {}\n",
        "        }\n",
        "      }\n",
        "    },\n",
        "    {\n",
        "      \"type\": \"column\",\n",
        "      \"relations\": {\n",
        "        \"can_read\": {\n",
        "          \"this\": {}\n",
        "        },\n",
        "        \"has_mask\": {\n",
        "          \"this\": {}\n",
        "        }\n",
        "      }\n",
        "    },\n",
        "    {\n",
        "      \"type\": \"filter\",\n",
        "      \"relations\": {\n",
        "        \"has_expression\": {\n",
        "          \"this\": {}\n",
        "        }\n",
        "      }\n",
        "    },\n",
        "    {\n",
        "      \"type\": \"mask\",\n",
        "      \"relations\": {\n",
        "        \"has_expression\": {\n",
        "          \"this\": {}\n",
        "        }\n",
        "      }\n",
        "    }\n",
        "  ]\n",
        "}\n",
        "'''\n",
        "\n",
        "model_request = WriteAuthorizationModelRequest(schema_version=\"1.1\", type_definitions=json.loads(model_json)[\"type_definitions\"])\n",
        "model_response = client.write_authorization_model(body=model_request)\n",
        "model_id = model_response.authorization_model_id\n",
        "print(f\"Created OpenFGA authorization model with ID: {model_id}\")\n",
        "\n",
        "# Now we need to update the Trino access-control.properties file with these values\n",
        "# In production, you would modify the file directly, but for a notebook demo\n",
        "# we'll just print the values to use in the Docker configuration\n",
        "print(\"\\nUpdate your /etc/access-control.properties file with these values:\")\n",
        "print(f\"openfga.store.id={store_id}\")\n",
        "print(f\"openfga.model.id={model_id}\")"
      ]
    },
    {
      "cell_type": "markdown",
      "metadata": {
        "id": "create_test_data",
        "language": "markdown"
      },
      "source": [
        "## Create Test Data\n",
        "\n",
        "Let's create some test data in the memory connector:"
      ]
    },
    {
      "cell_type": "code",
      "metadata": {
        "id": "setup_test_data",
        "language": "python"
      },
      "source": [
        "# Create a test table with sample data\n",
        "cursor.execute(\"\"\"\n",
        "CREATE TABLE memory.default.employee (\n",
        "  id INTEGER,\n",
        "  name VARCHAR,\n",
        "  department VARCHAR,\n",
        "  salary INTEGER,\n",
        "  ssn VARCHAR\n",
        ")\n",
        "\"\"\")\n",
        "\n",
        "# Insert test data\n",
        "cursor.execute(\"\"\"\n",
        "INSERT INTO memory.default.employee VALUES\n",
        "  (1, 'Alice', 'HR', 100000, '123-45-6789'),\n",
        "  (2, 'Bob', 'Engineering', 120000, '234-56-7890'),\n",
        "  (3, 'Carol', 'HR', 90000, '345-67-8901'),\n",
        "  (4, 'Dave', 'Finance', 130000, '456-78-9012')\n",
        "\"\"\")\n",
        "\n",
        "# Verify data was inserted\n",
        "cursor.execute(\"SELECT * FROM memory.default.employee\")\n",
        "rows = cursor.fetchall()\n",
        "columns = [desc[0] for desc in cursor.description]\n",
        "df = pd.DataFrame(rows, columns=columns)\n",
        "df"
      ]
    },
    {
      "cell_type": "markdown",
      "metadata": {
        "id": "configure_row_security",
        "language": "markdown"
      },
      "source": [
        "## Configure Row-Level Security\n",
        "\n",
        "Let's set up row-level security in OpenFGA so test_user can only see HR department rows:"
      ]
    },
    {
      "cell_type": "code",
      "metadata": {
        "id": "setup_row_level_security",
        "language": "python"
      },
      "source": [
        "from openfga.models import TupleKey, WriteRequest\n",
        "import uuid\n",
        "\n",
        "# Table path\n",
        "table_path = \"memory/default/employee\"\n",
        "user_id = \"test_user\"\n",
        "\n",
        "# Give test_user read access to the table\n",
        "tuple_key = TupleKey(\n",
        "    object=table_path,\n",
        "    relation=\"can_read\",\n",
        "    user=user_id\n",
        ")\n",
        "write_request = WriteRequest(writes=[tuple_key])\n",
        "client.write(body=write_request)\n",
        "\n",
        "# Create a filter expression ID\n",
        "filter_expr_id = f\"dept_filter_{uuid.uuid4().hex}\"\n",
        "row_filter = \"department = 'HR'\"\n",
        "\n",
        "# Add the filter expression\n",
        "tuple_key = TupleKey(\n",
        "    object=f\"filter:{filter_expr_id}\",\n",
        "    relation=\"has_expression\",\n",
        "    user=row_filter\n",
        ")\n",
        "write_request = WriteRequest(writes=[tuple_key])\n",
        "client.write(body=write_request)\n",
        "\n",
        "# Link filter to table and user\n",
        "tuple_key = TupleKey(\n",
        "    object=table_path,\n",
        "    relation=\"has_filter\",\n",
        "    user=f\"filter:{filter_expr_id}#has_expression@{user_id}\"\n",
        ")\n",
        "write_request = WriteRequest(writes=[tuple_key])\n",
        "client.write(body=write_request)\n",
        "\n",
        "print(f\"Row-level security configured for {user_id} to only see HR department rows\")"
      ]
    },
    {
      "cell_type": "markdown",
      "metadata": {
        "id": "configure_column_masking",
        "language": "markdown"
      },
      "source": [
        "## Configure Column Masking\n",
        "\n",
        "Now let's set up column masking for sensitive columns like salary and SSN:"
      ]
    },
    {
      "cell_type": "code",
      "metadata": {
        "id": "setup_column_masking",
        "language": "python"
      },
      "source": [
        "# Configure masking for salary column\n",
        "salary_mask_id = f\"salary_mask_{uuid.uuid4().hex}\"\n",
        "salary_mask = \"0\"  # Completely mask salary\n",
        "salary_col_path = f\"{table_path}/salary\"\n",
        "\n",
        "# Give test_user read access to the column\n",
        "tuple_key = TupleKey(\n",
        "    object=salary_col_path,\n",
        "    relation=\"can_read\",\n",
        "    user=user_id\n",
        ")\n",
        "write_request = WriteRequest(writes=[tuple_key])\n",
        "client.write(body=write_request)\n",
        "\n",
        "# Add mask expression\n",
        "tuple_key = TupleKey(\n",
        "    object=f\"mask:{salary_mask_id}\",\n",
        "    relation=\"has_expression\",\n",
        "    user=salary_mask\n",
        ")\n",
        "write_request = WriteRequest(writes=[tuple_key])\n",
        "client.write(body=write_request)\n",
        "\n",
        "# Link mask to column and user\n",
        "tuple_key = TupleKey(\n",
        "    object=salary_col_path,\n",
        "    relation=\"has_mask\",\n",
        "    user=f\"mask:{salary_mask_id}#has_expression@{user_id}\"\n",
        ")\n",
        "write_request = WriteRequest(writes=[tuple_key])\n",
        "client.write(body=write_request)\n",
        "\n",
        "# Now configure masking for SSN column\n",
        "ssn_mask_id = f\"ssn_mask_{uuid.uuid4().hex}\"\n",
        "ssn_mask = \"regexp_replace(ssn, '(\\\\d{3})-(\\\\d{2})-(\\\\d{4})', 'XXX-XX-$3')\"  # Show only last 4 digits\n",
        "ssn_col_path = f\"{table_path}/ssn\"\n",
        "\n",
        "# Give test_user read access to the column\n",
        "tuple_key = TupleKey(\n",
        "    object=ssn_col_path,\n",
        "    relation=\"can_read\",\n",
        "    user=user_id\n",
        ")\n",
        "write_request = WriteRequest(writes=[tuple_key])\n",
        "client.write(body=write_request)\n",
        "\n",
        "# Add mask expression\n",
        "tuple_key = TupleKey(\n",
        "    object=f\"mask:{ssn_mask_id}\",\n",
        "    relation=\"has_expression\",\n",
        "    user=ssn_mask\n",
        ")\n",
        "write_request = WriteRequest(writes=[tuple_key])\n",
        "client.write(body=write_request)\n",
        "\n",
        "# Link mask to column and user\n",
        "tuple_key = TupleKey(\n",
        "    object=ssn_col_path,\n",
        "    relation=\"has_mask\",\n",
        "    user=f\"mask:{ssn_mask_id}#has_expression@{user_id}\"\n",
        ")\n",
        "write_request = WriteRequest(writes=[tuple_key])\n",
        "client.write(body=write_request)\n",
        "\n",
        "print(\"Column masking configured for salary and SSN columns\")"
      ]
    },
    {
      "cell_type": "markdown",
      "metadata": {
        "id": "test_access_controls",
        "language": "markdown"
      },
      "source": [
        "## Test Access Controls\n",
        "\n",
        "Now let's test the access controls we've set up. First, we'll connect as the admin user to see everything:"
      ]
    },
    {
      "cell_type": "code",
      "metadata": {
        "id": "test_admin_access",
        "language": "python"
      },
      "source": [
        "# Query as admin\n",
        "cursor.execute(\"SELECT * FROM memory.default.employee\")\n",
        "rows = cursor.fetchall()\n",
        "columns = [desc[0] for desc in cursor.description]\n",
        "print(\"Results as admin user:\")\n",
        "pd.DataFrame(rows, columns=columns)"
      ]
    },
    {
      "cell_type": "markdown",
      "metadata": {
        "id": "test_user_section",
        "language": "markdown"
      },
      "source": [
        "Now let's connect as test_user and see the effects of row-level security and column masking:"
      ]
    },
    {
      "cell_type": "code",
      "metadata": {
        "id": "test_user_access",
        "language": "python"
      },
      "source": [
        "# Connect as test_user\n",
        "test_conn = trino.dbapi.connect(\n",
        "    host=\"trino\",\n",
        "    port=8080,\n",
        "    user=\"test_user\",  # Connect as test_user\n",
        "    catalog=\"memory\",\n",
        "    schema=\"default\"\n",
        ")\n",
        "\n",
        "test_cursor = test_conn.cursor()\n",
        "\n",
        "# Query as test_user\n",
        "test_cursor.execute(\"SELECT * FROM memory.default.employee\")\n",
        "rows = test_cursor.fetchall()\n",
        "columns = [desc[0] for desc in test_cursor.description]\n",
        "print(\"Results as test_user:\")\n",
        "pd.DataFrame(rows, columns=columns)"
      ]
    },
    {
      "cell_type": "markdown",
      "metadata": {
        "id": "cleanup_section",
        "language": "markdown"
      },
      "source": [
        "## Cleanup\n",
        "\n",
        "Let's clean up our test data:"
      ]
    },
    {
      "cell_type": "code",
      "metadata": {
        "id": "cleanup",
        "language": "python"
      },
      "source": [
        "# Drop the test table\n",
        "cursor.execute(\"DROP TABLE memory.default.employee\")\n",
        "print(\"Test table dropped\")\n",
        "\n",
        "# Close connections\n",
        "cursor.close()\n",
        "conn.close()\n",
        "test_cursor.close()\n",
        "test_conn.close()\n",
        "print(\"Connections closed\")"
      ]
    },
    {
      "cell_type": "markdown",
      "metadata": {
        "id": "conclusion",
        "language": "markdown"
      },
      "source": [
        "## Conclusion\n",
        "\n",
        "In this notebook, we've demonstrated:\n",
        "\n",
        "1. Setting up OpenFGA store and authorization model\n",
        "2. Creating test data in Trino's memory connector\n",
        "3. Configuring row-level security to filter data based on department\n",
        "4. Configuring column masking for sensitive data like salary and SSN\n",
        "5. Testing access controls with different users\n",
        "\n",
        "This demonstrates the powerful access control capabilities of OpenFGA when integrated with Trino."
      ]
    }
  ],
  "metadata": {
    "kernelspec": {
      "display_name": "Python 3",
      "language": "python",
      "name": "python3"
    }
  },
  "nbformat": 4,
  "nbformat_minor": 4
}